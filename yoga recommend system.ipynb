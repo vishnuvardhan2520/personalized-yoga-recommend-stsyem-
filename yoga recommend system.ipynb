{
  "nbformat": 4,
  "nbformat_minor": 0,
  "metadata": {
    "colab": {
      "provenance": [],
      "authorship_tag": "ABX9TyMDWeH9Zq7cEAVtdEj91Eiy",
      "include_colab_link": true
    },
    "kernelspec": {
      "name": "python3",
      "display_name": "Python 3"
    },
    "language_info": {
      "name": "python"
    }
  },
  "cells": [
    {
      "cell_type": "markdown",
      "metadata": {
        "id": "view-in-github",
        "colab_type": "text"
      },
      "source": [
        "<a href=\"https://colab.research.google.com/github/vishnuvardhan2520/personalized-yoga-recommend-stsyem-/blob/main/yoga%20recommend%20system.ipynb\" target=\"_parent\"><img src=\"https://colab.research.google.com/assets/colab-badge.svg\" alt=\"Open In Colab\"/></a>"
      ]
    },
    {
      "cell_type": "code",
      "execution_count": 2,
      "metadata": {
        "colab": {
          "base_uri": "https://localhost:8080/"
        },
        "id": "i5E7rv8ZbQhu",
        "outputId": "38b76b78-3734-4308-9641-02c97e73480b"
      },
      "outputs": [
        {
          "output_type": "stream",
          "name": "stdout",
          "text": [
            "\n",
            "Random Forest Accuracy: 100.0 %\n",
            "\n",
            "Classification Report:\n",
            "              precision    recall  f1-score   support\n",
            "\n",
            "           0       1.00      1.00      1.00       338\n",
            "           1       1.00      1.00      1.00       172\n",
            "           2       1.00      1.00      1.00       675\n",
            "           3       1.00      1.00      1.00       325\n",
            "           4       1.00      1.00      1.00       345\n",
            "           5       1.00      1.00      1.00       145\n",
            "\n",
            "    accuracy                           1.00      2000\n",
            "   macro avg       1.00      1.00      1.00      2000\n",
            "weighted avg       1.00      1.00      1.00      2000\n",
            "\n",
            "\n",
            "Recommended Plan for New User: ['Strength Training']\n"
          ]
        }
      ],
      "source": [
        "\n",
        "import pandas as pd\n",
        "import numpy as np\n",
        "from sklearn.model_selection import train_test_split\n",
        "from sklearn.ensemble import RandomForestClassifier\n",
        "from sklearn.metrics import accuracy_score, classification_report\n",
        "from sklearn.preprocessing import LabelEncoder\n",
        "\n",
        "np.random.seed(42)\n",
        "\n",
        "# Generate data\n",
        "n_samples = 10000\n",
        "ages = np.random.randint(18, 65, n_samples)\n",
        "genders = np.random.choice(['Male', 'Female'], n_samples)\n",
        "bmi = np.round(np.random.uniform(18, 35, n_samples), 1)\n",
        "experience = np.random.choice(['Newbie', 'Intermediate', 'Advanced'], n_samples)\n",
        "goal = np.random.choice(['Weight Loss', 'Strength', 'Flexibility', 'Stress Relief'], n_samples)\n",
        "preferred_time = np.random.choice(['Morning', 'Evening', 'Night'], n_samples)\n",
        "\n",
        "# Recommendation logic\n",
        "def recommend_plan(exp, g):\n",
        "    if exp == 'Newbie':\n",
        "        if g in ['Weight Loss', 'Stress Relief']:\n",
        "            return 'Beginner Yoga'\n",
        "        elif g == 'Flexibility':\n",
        "            return 'Stretching Exercises'\n",
        "        else:\n",
        "            return 'Cardio Blast'\n",
        "    elif exp == 'Intermediate':\n",
        "        if g == 'Weight Loss':\n",
        "            return 'Power Yoga'\n",
        "        elif g == 'Strength':\n",
        "            return 'Strength Training'\n",
        "        else:\n",
        "            return 'Meditation'\n",
        "    else:  # Advanced\n",
        "        if g == 'Strength':\n",
        "            return 'Strength Training'\n",
        "        elif g == 'Flexibility':\n",
        "            return 'Power Yoga'\n",
        "        else:\n",
        "            return 'Meditation'\n",
        "\n",
        "recommended_plan = [recommend_plan(e, g) for e, g in zip(experience, goal)]\n",
        "\n",
        "# Create DataFrame\n",
        "df = pd.DataFrame({\n",
        "    'Age': ages,\n",
        "    'Gender': genders,\n",
        "    'BMI': bmi,\n",
        "    'Experience_Level': experience,\n",
        "    'Fitness_Goal': goal,\n",
        "    'Preferred_Time': preferred_time,\n",
        "    'Recommended_Plan': recommended_plan\n",
        "})\n",
        "\n",
        "# Create separate label encoders for each categorical column\n",
        "encoders = {}\n",
        "for col in ['Gender', 'Experience_Level', 'Fitness_Goal', 'Preferred_Time', 'Recommended_Plan']:\n",
        "    le = LabelEncoder()\n",
        "    df[col] = le.fit_transform(df[col])\n",
        "    encoders[col] = le\n",
        "\n",
        "# Prepare features and target\n",
        "X = df.drop('Recommended_Plan', axis=1)\n",
        "y = df['Recommended_Plan']\n",
        "\n",
        "X_train, X_test, y_train, y_test = train_test_split(X, y, test_size=0.2, random_state=42)\n",
        "\n",
        "# Train Random Forest\n",
        "rf_model = RandomForestClassifier(\n",
        "    n_estimators=300,\n",
        "    max_depth=15,\n",
        "    min_samples_split=5,\n",
        "    random_state=42\n",
        ")\n",
        "rf_model.fit(X_train, y_train)\n",
        "\n",
        "# Evaluation\n",
        "y_pred = rf_model.predict(X_test)\n",
        "accuracy = accuracy_score(y_test, y_pred)\n",
        "print(\"\\nRandom Forest Accuracy:\", accuracy * 100, \"%\")\n",
        "print(\"\\nClassification Report:\")\n",
        "print(classification_report(y_test, y_pred))\n",
        "\n",
        "# Predict for a new user\n",
        "new_user = pd.DataFrame({\n",
        "    'Age': [30],\n",
        "    'Gender': encoders['Gender'].transform(['Female']),\n",
        "    'BMI': [24.5],\n",
        "    'Experience_Level': encoders['Experience_Level'].transform(['Intermediate']),\n",
        "    'Fitness_Goal': encoders['Fitness_Goal'].transform(['Strength']),\n",
        "    'Preferred_Time': encoders['Preferred_Time'].transform(['Evening'])\n",
        "})\n",
        "\n",
        "recommendation = rf_model.predict(new_user)\n",
        "print(\"\\nRecommended Plan for New User:\", encoders['Recommended_Plan'].inverse_transform(recommendation))\n",
        "\n",
        "\n"
      ]
    }
  ]
}